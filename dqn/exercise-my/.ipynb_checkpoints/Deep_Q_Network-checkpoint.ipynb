{
 "cells": [
  {
   "cell_type": "markdown",
   "metadata": {
    "collapsed": true
   },
   "source": [
    "# model.py"
   ]
  },
  {
   "cell_type": "code",
   "execution_count": null,
   "metadata": {
    "collapsed": true
   },
   "outputs": [],
   "source": [
    "import torch\n",
    "import torch.nn as nn\n",
    "import torch.nn.functional as F\n",
    "\n",
    "class QNetwork(nn.Module):\n",
    "  \"\"\"Actor (Policy) Model.\"\"\"\n",
    "  \n",
    "  def __init__(self, state_size, action_size, seed):\n",
    "    \"\"\"Initialize parameters and build model.\n",
    "    Params\n",
    "    ======\n",
    "      state_size (int): Dimension of each state\n",
    "      action_size (int): Dimension of each action\n",
    "      seed (int): Random seed\n",
    "    \"\"\"\n",
    "    super(QNetwork, self).__init__()\n",
    "    self.seed = torch.manual_seed(seed)\n",
    "    \"*** YOUR CODE HERE ***\"\n",
    "    \n",
    "  def forward(self, state):\n",
    "    \"\"\"Build a network that maps state -> action values.\"\"\"\n",
    "    pass\n",
    "  "
   ]
  },
  {
   "cell_type": "markdown",
   "metadata": {},
   "source": [
    "# dqn_agent.py"
   ]
  },
  {
   "cell_type": "code",
   "execution_count": null,
   "metadata": {
    "collapsed": true
   },
   "outputs": [],
   "source": [
    "import numpy as np\n",
    "import random\n",
    "from collections import namedtuple, deque\n",
    "\n",
    "from model import QNetwork\n",
    "\n",
    "import torch\n",
    "import torch.nn.functional as F\n",
    "import torch.optim as optim\n",
    "\n",
    "BUFFER_SIZE = int(1e5)\n",
    "BATCH_SIZE = 64\n",
    "GAMMA = 0.99\n",
    "TAU = 1e-3\n",
    "LR = 5e-4\n",
    "UPDATE_EVERY = 4\n",
    "\n",
    "device = torch.device('cuda:0' if torch.duca.is_available() else 'cpu')\n",
    "\n",
    "class Agent():\n",
    "  \"\"\"Interacts with and learns from the environment.\"\"\"\n",
    "  \n",
    "  def __init__(self, state_size, action_size, seed):\n",
    "    \"\"\"Initialize an Agent object.\n",
    "    Params\n",
    "    ======\n",
    "      state_size (int): dimension of each state\n",
    "      action_size (int): dimension of each action\n",
    "      seed (int): random seed\n",
    "    \"\"\"\n",
    "    self.state_size = state_size\n",
    "    self_action_size = action_size\n",
    "    self.seed = random.seed(seed)\n",
    "    \n",
    "    # Q-Network\n",
    "    self.qnetwork_local = QNetwork(state_size, action_size, seed).to(device)\n",
    "    self.qnetwork_target = QNetwork(state_size, action_size, seed).to(device)\n",
    "    self.optimizer = optim.Adam(self.qnetwork_local.parameters(), lr=LR)\n",
    "    \n",
    "    # Replay memory\n",
    "    self.memory = ReplayBuffer(action_size, BUFFER_SIZE, BATCH_SIZE, seed)\n",
    "    self.t_step = 0\n",
    "    \n",
    "  def step(self, state, action, reward, next_state, done):\n",
    "    # Save experience in replay memory\n",
    "    self.memory.add(state, action, reward, next_state, done)\n",
    "    \n",
    "    # Learn every UPDATE_EVERY time steps\n",
    "    self.t_step = (self.t_step + 1) % UPDATE_EVERY\n",
    "    if self.t_step == 0:\n",
    "      # If enough samples are available in memory, geet random subset and learn\n",
    "      if len(self.memory) > BATCH_SIZE:\n",
    "        experiences = self.memory.sample()\n",
    "        self.learn(experiences, GAMMA)\n",
    "        \n",
    "  def act(self, state, eps=0.):\n",
    "    \"\"\"Returns actions for given state as per current policy.\n",
    "    \n",
    "    Params\n",
    "    ======\n",
    "      state (array_like): current state\n",
    "      eps (float): epsilon, for epsilon-greedy actio selection\n",
    "    \"\"\"\n",
    "    state = torch.from_numpy(state).float().unsqueeze(0).to(device)\n",
    "    self.qnetwork_local.eval()\n",
    "    with torch.no_grad():\n",
    "      action_values = self.qnetwork_local(state)\n",
    "    self.qnetwork_local.train()\n",
    "    \n",
    "    if random.random() > eps:\n",
    "      return np.argmax(action_values.cpu().data.numpy())\n",
    "    else:\n",
    "      return random.choice(np.arange(self.action_size))\n",
    "    \n",
    "    "
   ]
  }
 ],
 "metadata": {
  "kernelspec": {
   "display_name": "Python 3",
   "language": "python",
   "name": "python3"
  },
  "language_info": {
   "codemirror_mode": {
    "name": "ipython",
    "version": 3
   },
   "file_extension": ".py",
   "mimetype": "text/x-python",
   "name": "python",
   "nbconvert_exporter": "python",
   "pygments_lexer": "ipython3",
   "version": "3.6.1"
  }
 },
 "nbformat": 4,
 "nbformat_minor": 2
}
